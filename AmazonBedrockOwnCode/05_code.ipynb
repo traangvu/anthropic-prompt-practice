{
 "cells": [
  {
   "cell_type": "code",
   "execution_count": 8,
   "metadata": {},
   "outputs": [
    {
     "name": "stdout",
     "output_type": "stream",
     "text": [
      "Note: you may need to restart the kernel to use updated packages.\n"
     ]
    }
   ],
   "source": [
    "%pip install anthropic --quiet\n",
    "\n",
    "# Import the hints module from the utils package\n",
    "import os\n",
    "import sys\n",
    "module_path = \"..\"\n",
    "sys.path.append(os.path.abspath(module_path))\n",
    "from utils import hints\n",
    "\n",
    "# Import python's built-in regular expression library\n",
    "import re\n",
    "from anthropic import AnthropicBedrock\n",
    "\n",
    "AWS_REGION = \"eu-north-1\"\n",
    "MODEL_NAME = \"eu.anthropic.claude-3-7-sonnet-20250219-v1:0\"\n",
    "\n",
    "client = AnthropicBedrock(aws_region=AWS_REGION)\n",
    "\n",
    "def get_completion(prompt, system=''):\n",
    "    message = client.messages.create(\n",
    "        model=MODEL_NAME,\n",
    "        max_tokens=2000,\n",
    "        temperature=0.0,\n",
    "        messages=[\n",
    "            {\"role\": \"user\", \"content\": prompt}\n",
    "        ],\n",
    "        system=system\n",
    "    )\n",
    "    return message.content[0].text"
   ]
  },
  {
   "cell_type": "code",
   "execution_count": 9,
   "metadata": {},
   "outputs": [
    {
     "name": "stdout",
     "output_type": "stream",
     "text": [
      "--------------------------- Full prompt with variable substutions ---------------------------\n",
      "Please write a haiku about Rabbit. Put it in  tags.\n",
      "\n",
      "------------------------------------- Claude's response -------------------------------------\n",
      "<haiku>\n",
      "Soft ears twitching quick\n",
      "Hopping through meadows of green\n",
      "Whiskers catch moonlight\n",
      "</haiku>\n"
     ]
    }
   ],
   "source": [
    "\n",
    "# Variable content\n",
    "ANIMAL = \"Rabbit\"\n",
    "\n",
    "# Prompt template with a placeholder for the variable content\n",
    "PROMPT = f\"Please write a haiku about {ANIMAL}. Put it in  tags.\"\n",
    "\n",
    "# Print Claude's response\n",
    "print(\"--------------------------- Full prompt with variable substutions ---------------------------\")\n",
    "print(PROMPT)\n",
    "print(\"\\n------------------------------------- Claude's response -------------------------------------\")\n",
    "print(get_completion(PROMPT))"
   ]
  },
  {
   "cell_type": "code",
   "execution_count": 12,
   "metadata": {},
   "outputs": [
    {
     "name": "stdout",
     "output_type": "stream",
     "text": [
      "--------------------------- Full prompt with variable substitutions ---------------------------\n",
      "USER TURN:\n",
      "Please write a haiku about Cat. Put it in  tags.\n",
      "\n",
      "ASSISTANT TURN:\n",
      "<haiku>\n",
      "\n",
      "\n",
      "------------------------------------- Claude's response -------------------------------------\n",
      "<haiku>\n",
      "Soft paws on warm lap\n",
      "Golden eyes gleam in moonlight\n",
      "Purring lullaby\n",
      "</haiku>\n"
     ]
    }
   ],
   "source": [
    "\n",
    "# Variable content\n",
    "ANIMAL = \"Cat\"\n",
    "\n",
    "# Prompt template with a placeholder for the variable content\n",
    "PROMPT = f\"Please write a haiku about {ANIMAL}. Put it in  tags.\"\n",
    "\n",
    "# Prefill for Claude's response\n",
    "FULL_PROMPT = PROMPT + \"\\n\" + PREFILL\n",
    "\n",
    "# Print Claude's response\n",
    "print(\"--------------------------- Full prompt with variable substitutions ---------------------------\")\n",
    "print(\"USER TURN:\")\n",
    "print(PROMPT)\n",
    "print(\"\\nASSISTANT TURN:\")\n",
    "print(PREFILL)\n",
    "print(\"\\n------------------------------------- Claude's response -------------------------------------\")\n",
    "print(get_completion(FULL_PROMPT))  # Now only using the full prompt"
   ]
  },
  {
   "cell_type": "code",
   "execution_count": 15,
   "metadata": {},
   "outputs": [
    {
     "name": "stdout",
     "output_type": "stream",
     "text": [
      "--------------------------- Full prompt with variable substitutions ---------------------------\n",
      "USER TURN\n",
      "Please write a haiku about Cat. Use JSON format with the keys \"first_line\", \"second_line\", and \"third_line\".\n",
      "Start your response like this:\n",
      "{\n",
      "\n",
      "\n",
      "------------------------------------- Claude's response -------------------------------------\n",
      "{\n",
      "  \"first_line\": \"Soft paws tread lightly\",\n",
      "  \"second_line\": \"Golden eyes watch patiently\",\n",
      "  \"third_line\": \"Purring in sunbeams\"\n",
      "}\n"
     ]
    }
   ],
   "source": [
    "ANIMAL = \"Cat\"\n",
    "\n",
    "# Prompt that includes the partial prefill to guide the response\n",
    "PROMPT = f\"\"\"Please write a haiku about {ANIMAL}. Use JSON format with the keys \"first_line\", \"second_line\", and \"third_line\".\n",
    "Start your response like this:\n",
    "{{\n",
    "\"\"\"\n",
    "\n",
    "print(\"--------------------------- Full prompt with variable substitutions ---------------------------\")\n",
    "print(\"USER TURN\")\n",
    "print(PROMPT)\n",
    "print(\"\\n------------------------------------- Claude's response -------------------------------------\")\n",
    "print(get_completion(PROMPT))\n"
   ]
  },
  {
   "cell_type": "code",
   "execution_count": 16,
   "metadata": {},
   "outputs": [
    {
     "name": "stdout",
     "output_type": "stream",
     "text": [
      "--------------------------- Full prompt with variable substitutions ---------------------------\n",
      "USER TURN\n",
      "Hey Claude. Here is an email: Hi Zack, just pinging you for a quick update on that prompt you were supposed to write. Make this email more olde english. Write the new version in <olde english_email> XML tags.\n",
      "\n",
      "<olde english_email>\n",
      "\n",
      "\n",
      "------------------------------------- Claude's response -------------------------------------\n",
      "<olde english_email>\n",
      "Greetings good Master Zack,\n",
      "\n",
      "I do hereby send forth this missive to most humbly enquire upon the status of thy promised prompt. Pray tell, how fares thy progress on the written task which thou didst pledge to complete?\n",
      "\n",
      "I await thy response with eager anticipation.\n",
      "\n",
      "Thine in faithful correspondence,\n",
      "[Your name]\n",
      "</olde english_email>\n"
     ]
    }
   ],
   "source": [
    "EMAIL = \"Hi Zack, just pinging you for a quick update on that prompt you were supposed to write.\"\n",
    "ADJECTIVE = \"olde english\"\n",
    "\n",
    "# Merge PREFILL into the prompt itself\n",
    "PROMPT = (\n",
    "    f\"Hey Claude. Here is an email: {EMAIL} \"\n",
    "    f\"Make this email more {ADJECTIVE}. \"\n",
    "    f\"Write the new version in <{ADJECTIVE}_email> XML tags.\\n\\n\"\n",
    "    f\"<{ADJECTIVE}_email>\\n\"\n",
    ")\n",
    "\n",
    "print(\"--------------------------- Full prompt with variable substitutions ---------------------------\")\n",
    "print(\"USER TURN\")\n",
    "print(PROMPT)\n",
    "print(\"\\n------------------------------------- Claude's response -------------------------------------\")\n",
    "print(get_completion(PROMPT))\n"
   ]
  }
 ],
 "metadata": {
  "kernelspec": {
   "display_name": ".venv",
   "language": "python",
   "name": "python3"
  },
  "language_info": {
   "codemirror_mode": {
    "name": "ipython",
    "version": 3
   },
   "file_extension": ".py",
   "mimetype": "text/x-python",
   "name": "python",
   "nbconvert_exporter": "python",
   "pygments_lexer": "ipython3",
   "version": "3.13.5"
  }
 },
 "nbformat": 4,
 "nbformat_minor": 2
}
