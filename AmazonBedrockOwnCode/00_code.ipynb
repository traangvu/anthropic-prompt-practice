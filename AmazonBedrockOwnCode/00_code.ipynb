{
 "cells": [
  {
   "cell_type": "code",
   "execution_count": 7,
   "metadata": {},
   "outputs": [
    {
     "name": "stdout",
     "output_type": "stream",
     "text": [
      "Note: you may need to restart the kernel to use updated packages.\n",
      "Note: you may need to restart the kernel to use updated packages.\n",
      "Requirement already satisfied: httpx<0.28 in /Users/trang/Desktop/prompt-eng-interactive-tutorial/.venv/lib/python3.13/site-packages (0.27.2)\n",
      "Requirement already satisfied: anyio in /Users/trang/Desktop/prompt-eng-interactive-tutorial/.venv/lib/python3.13/site-packages (from httpx<0.28) (4.9.0)\n",
      "Requirement already satisfied: certifi in /Users/trang/Desktop/prompt-eng-interactive-tutorial/.venv/lib/python3.13/site-packages (from httpx<0.28) (2025.6.15)\n",
      "Requirement already satisfied: httpcore==1.* in /Users/trang/Desktop/prompt-eng-interactive-tutorial/.venv/lib/python3.13/site-packages (from httpx<0.28) (1.0.9)\n",
      "Requirement already satisfied: idna in /Users/trang/Desktop/prompt-eng-interactive-tutorial/.venv/lib/python3.13/site-packages (from httpx<0.28) (3.10)\n",
      "Requirement already satisfied: sniffio in /Users/trang/Desktop/prompt-eng-interactive-tutorial/.venv/lib/python3.13/site-packages (from httpx<0.28) (1.3.1)\n",
      "Requirement already satisfied: h11>=0.16 in /Users/trang/Desktop/prompt-eng-interactive-tutorial/.venv/lib/python3.13/site-packages (from httpcore==1.*->httpx<0.28) (0.16.0)\n",
      "Note: you may need to restart the kernel to use updated packages.\n"
     ]
    }
   ],
   "source": [
    "%pip install -qU pip\n",
    "%pip install -qr ../requirements.txt\n",
    "%pip install \"httpx<0.28\""
   ]
  },
  {
   "cell_type": "code",
   "execution_count": 8,
   "metadata": {},
   "outputs": [
    {
     "data": {
      "text/html": [
       "<script>Jupyter.notebook.kernel.restart()</script>"
      ],
      "text/plain": [
       "<IPython.core.display.HTML object>"
      ]
     },
     "execution_count": 8,
     "metadata": {},
     "output_type": "execute_result"
    }
   ],
   "source": [
    "# restart kernel\n",
    "from IPython.core.display import HTML\n",
    "HTML(\"<script>Jupyter.notebook.kernel.restart()</script>\")"
   ]
  },
  {
   "cell_type": "code",
   "execution_count": 9,
   "metadata": {},
   "outputs": [
    {
     "name": "stdout",
     "output_type": "stream",
     "text": [
      "Claude: I don't have a physical origin or location as I'm an AI assistant created by Anthropic. I exist as a digital entity running on computer systems, rather than coming from a specific place. I was trained on a diverse dataset of text from the internet, books, and other sources, but I don't have a hometown or country of origin in the way humans do.\n"
     ]
    }
   ],
   "source": [
    "from anthropic import AnthropicBedrock\n",
    "import boto3\n",
    "\n",
    "# Create boto3 session with eu-north-1 explicitly set\n",
    "session = boto3.Session(region_name=\"eu-north-1\")\n",
    "\n",
    "AWS_REGION = \"eu-north-1\"\n",
    "MODEL_NAME = \"eu.anthropic.claude-3-7-sonnet-20250219-v1:0\"\n",
    "\n",
    "# Instantiate the AnthropicBedrock client with the correct region\n",
    "client = AnthropicBedrock(aws_region=AWS_REGION)\n",
    "\n",
    "def get_completion(messages, system=\"\"):\n",
    "    response = client.messages.create(\n",
    "        model=MODEL_NAME,\n",
    "        max_tokens=2000,\n",
    "        temperature=0.0,\n",
    "        messages=messages,\n",
    "        system=system\n",
    "    )\n",
    "    return response.content[0].text\n",
    "\n",
    "# Define the system prompt separately\n",
    "system_prompt = \"You are a helpful assistant.\"\n",
    "\n",
    "# Conversation messages - only user and assistant roles here\n",
    "messages = [{\"role\": \"user\", \"content\": \"Where are you from?\"}]\n",
    "\n",
    "# Get response from Claude\n",
    "response = get_completion(messages, system=system_prompt)\n",
    "print(\"Claude:\", response)"
   ]
  }
 ],
 "metadata": {
  "kernelspec": {
   "display_name": ".venv",
   "language": "python",
   "name": "python3"
  },
  "language_info": {
   "codemirror_mode": {
    "name": "ipython",
    "version": 3
   },
   "file_extension": ".py",
   "mimetype": "text/x-python",
   "name": "python",
   "nbconvert_exporter": "python",
   "pygments_lexer": "ipython3",
   "version": "3.13.5"
  }
 },
 "nbformat": 4,
 "nbformat_minor": 2
}
